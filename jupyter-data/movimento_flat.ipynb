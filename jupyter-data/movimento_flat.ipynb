{
 "cells": [
  {
   "cell_type": "code",
   "execution_count": 5,
   "id": "80dcb1c4-0768-46b1-b31f-1b95b53c735b",
   "metadata": {},
   "outputs": [],
   "source": [
    "from pyspark.sql        import SparkSession\n",
    "from pyspark.sql.functions import *\n",
    "\n",
    "spark = SparkSession.builder\\\n",
    "      .getOrCreate()\n",
    "\n",
    "spark.sparkContext._jsc\\\n",
    "     .hadoopConfiguration().set(\"mapreduce.outputcommitter.factory.scheme.s3a\", \"org.apache.hadoop.fs.s3a.commit.S3ACommitterFactory\")\n",
    "spark.sparkContext._jsc\\\n",
    "     .hadoopConfiguration().set(\"fs.s3a.committer.name\", \"directory\")\n",
    "spark.sparkContext._jsc\\\n",
    "      .hadoopConfiguration().set(\"fs.s3a.committer.staging.tmp.path\", \"/tmp/spark_staging\")\n",
    "spark.sparkContext._jsc\\\n",
    "      .hadoopConfiguration().set(\"fs.s3a.buffer.dir\", \"/tmp/spark_local_buf\")\n",
    "spark.sparkContext._jsc\\\n",
    "      .hadoopConfiguration().set(\"fs.s3a.committer.staging.conflict-mode\", \"fail\")\n",
    "spark.sparkContext._jsc\\\n",
    "      .hadoopConfiguration().set(\"fs.s3a.aws.credentials.provider\", \"org.apache.hadoop.fs.s3a.SimpleAWSCredentialsProvider\")\n",
    "spark.sparkContext._jsc\\\n",
    "      .hadoopConfiguration().set(\"fs.s3a.access.key\", \"minio_access_key\")\n",
    "spark.sparkContext._jsc\\\n",
    "      .hadoopConfiguration().set(\"fs.s3a.secret.key\", \"minio_secret_key\")\n",
    "spark.sparkContext._jsc\\\n",
    "      .hadoopConfiguration().set(\"fs.s3a.endpoint\", \"http://minio:9000\")\n",
    "spark.sparkContext._jsc\\\n",
    "      .hadoopConfiguration().set(\"fs.s3a.connection.ssl.enabled\", \"false\")\n",
    "spark.sparkContext._jsc\\\n",
    "      .hadoopConfiguration().set(\"fs.s3a.path.style.access\", \"true\")\n"
   ]
  },
  {
   "cell_type": "code",
   "execution_count": null,
   "id": "7e1f0752",
   "metadata": {},
   "outputs": [],
   "source": [
    "#local para salvar csv\n",
    "local_csv = \"s3a://sicredi/etl_csv\""
   ]
  },
  {
   "cell_type": "code",
   "execution_count": 2,
   "id": "d7aeaa8d-78ec-4a40-a7d5-83c7db13d555",
   "metadata": {},
   "outputs": [],
   "source": [
    "#lendo dados de origem\n",
    "\n",
    "df_movimento = spark.read.parquet(\"s3a://sicredi/movimento\")\n",
    "df_cartao    = spark.read.parquet(\"s3a://sicredi/cartao\")\n",
    "df_conta     = spark.read.parquet(\"s3a://sicredi/conta\")\n",
    "df_associado = spark.read.parquet(\"s3a://sicredi/associado\")"
   ]
  },
  {
   "cell_type": "code",
   "execution_count": 9,
   "id": "c6c89c83-1206-452e-9f33-8a88b7c646c7",
   "metadata": {},
   "outputs": [],
   "source": [
    "df_movimento_flat = df_movimento.drop(\"id\").withColumnRenamed(\"vlr_transacao\",\"vlr_transacao_movimento\")\\\n",
    "                                           .withColumnRenamed(\"des_transacao\",\"desc_transacao_movimento\")\\\n",
    "                                           .join(df_cartao.selectExpr(\"id as id_cartao\",\"nom_impresso as nome_impresso_cartao\",\"num_cartao as numero_cartao\",\"id_conta\",\"id_associado\"),\"id_cartao\",\"left\")\\\n",
    "                                           .join(df_conta.selectExpr(\"id as id_conta\",\"tipo as tipo_conta\",\"data_criacao as data_criacao_conta\"),\"id_conta\",\"left\")\\\n",
    "                                           .join(df_associado.selectExpr(\"id as id_associado\",\"nome as nome_associado\",\"sobrenome as sobrenome_associado\",\"idade as idade_associado\"),\"id_associado\",\"left\").drop(\"id_conta\",\"id_cartao\",\"id_associado\")"
   ]
  },
  {
   "cell_type": "code",
   "execution_count": 10,
   "id": "f797c373-3e46-4923-8db7-06f4b840219c",
   "metadata": {},
   "outputs": [
    {
     "name": "stdout",
     "output_type": "stream",
     "text": [
      "+--------------+------------------------+-----------------------+--------------------+----------------+----------+------------------+--------------+-------------------+---------------+\n",
      "|data_movimento|desc_transacao_movimento|vlr_transacao_movimento|nome_impresso_cartao|   numero_cartao|tipo_conta|data_criacao_conta|nome_associado|sobrenome_associado|idade_associado|\n",
      "+--------------+------------------------+-----------------------+--------------------+----------------+----------+------------------+--------------+-------------------+---------------+\n",
      "|    2022-09-12|                 mercado|                  700.9|         Renan Matos|9912930130918239|  corrente|        2022-05-12|         Renan|              Matos|             25|\n",
      "|    2022-09-12|                farmacia|                   12.9|         Renan Matos|9912930130918239|  corrente|        2022-05-12|         Renan|              Matos|             25|\n",
      "|    2022-09-12|                farmacia|                  128.9|         Renan Matos|9912930130918239|  corrente|        2022-05-12|         Renan|              Matos|             25|\n",
      "|    2022-09-12|                 mercado|                   17.9|         Renan Matos|9912930130918239|  corrente|        2022-05-12|         Renan|              Matos|             25|\n",
      "|    2022-09-12|                 aluguel|                 1398.9|         Renan Matos|9912930130918239|  corrente|        2022-05-12|         Renan|              Matos|             25|\n",
      "+--------------+------------------------+-----------------------+--------------------+----------------+----------+------------------+--------------+-------------------+---------------+\n",
      "\n"
     ]
    }
   ],
   "source": [
    "df_movimento_flat.show()"
   ]
  },
  {
   "cell_type": "code",
   "execution_count": null,
   "id": "88f22413-a605-4d96-adc7-222f2aba6231",
   "metadata": {},
   "outputs": [],
   "source": [
    "df_movimento_flat.write.parquet(\"s3a://sicredi/movimento_flat\")\n",
    "df_movimento_flat.write.csv(local_csv)"
   ]
  }
 ],
 "metadata": {
  "kernelspec": {
   "display_name": "Python 3 (ipykernel)",
   "language": "python",
   "name": "python3"
  },
  "language_info": {
   "codemirror_mode": {
    "name": "ipython",
    "version": 3
   },
   "file_extension": ".py",
   "mimetype": "text/x-python",
   "name": "python",
   "nbconvert_exporter": "python",
   "pygments_lexer": "ipython3",
   "version": "3.10.8"
  },
  "toc-showcode": true
 },
 "nbformat": 4,
 "nbformat_minor": 5
}
