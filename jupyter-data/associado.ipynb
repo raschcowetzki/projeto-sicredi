{
 "cells": [
  {
   "cell_type": "code",
   "execution_count": 35,
   "id": "80dcb1c4-0768-46b1-b31f-1b95b53c735b",
   "metadata": {},
   "outputs": [],
   "source": [
    "from pyspark.sql import SparkSession\n",
    "\n",
    "spark = SparkSession.builder\\\n",
    "      .getOrCreate()\n",
    "\n",
    "spark.sparkContext._jsc\\\n",
    "     .hadoopConfiguration().set(\"mapreduce.outputcommitter.factory.scheme.s3a\", \"org.apache.hadoop.fs.s3a.commit.S3ACommitterFactory\")\n",
    "spark.sparkContext._jsc\\\n",
    "     .hadoopConfiguration().set(\"fs.s3a.committer.name\", \"directory\")\n",
    "spark.sparkContext._jsc\\\n",
    "      .hadoopConfiguration().set(\"fs.s3a.committer.staging.tmp.path\", \"/tmp/spark_staging\")\n",
    "spark.sparkContext._jsc\\\n",
    "      .hadoopConfiguration().set(\"fs.s3a.buffer.dir\", \"/tmp/spark_local_buf\")\n",
    "spark.sparkContext._jsc\\\n",
    "      .hadoopConfiguration().set(\"fs.s3a.committer.staging.conflict-mode\", \"fail\")\n",
    "spark.sparkContext._jsc\\\n",
    "      .hadoopConfiguration().set(\"fs.s3a.aws.credentials.provider\", \"org.apache.hadoop.fs.s3a.SimpleAWSCredentialsProvider\")\n",
    "spark.sparkContext._jsc\\\n",
    "      .hadoopConfiguration().set(\"fs.s3a.access.key\", \"minio_access_key\")\n",
    "spark.sparkContext._jsc\\\n",
    "      .hadoopConfiguration().set(\"fs.s3a.secret.key\", \"minio_secret_key\")\n",
    "spark.sparkContext._jsc\\\n",
    "      .hadoopConfiguration().set(\"fs.s3a.endpoint\", \"http://minio:9000\")\n",
    "spark.sparkContext._jsc\\\n",
    "      .hadoopConfiguration().set(\"fs.s3a.connection.ssl.enabled\", \"false\")\n",
    "spark.sparkContext._jsc\\\n",
    "      .hadoopConfiguration().set(\"fs.s3a.path.style.access\", \"true\")\n"
   ]
  },
  {
   "cell_type": "code",
   "execution_count": 36,
   "id": "d7aeaa8d-78ec-4a40-a7d5-83c7db13d555",
   "metadata": {},
   "outputs": [],
   "source": [
    "#Populando a tabela associado\n",
    "\n",
    "data = [\n",
    "    {\"idade\":25,\"sobrenome\":\"Matos\",\"nome\":\"Renan\",\"id\":978123,\"email\":\"renanmatos@live.com\"}\n",
    "         ]\n",
    "\n",
    "df = spark.createDataFrame(data = data)\n",
    "\n"
   ]
  },
  {
   "cell_type": "code",
   "execution_count": 37,
   "id": "0efc0333-465b-49ab-aa60-4177669cd506",
   "metadata": {},
   "outputs": [
    {
     "name": "stdout",
     "output_type": "stream",
     "text": [
      "+-------------------+------+-----+-----+---------+\n",
      "|              email|    id|idade| nome|sobrenome|\n",
      "+-------------------+------+-----+-----+---------+\n",
      "|renanmatos@live.com|978123|   25|Renan|    Matos|\n",
      "+-------------------+------+-----+-----+---------+\n",
      "\n"
     ]
    }
   ],
   "source": [
    "df.show()"
   ]
  },
  {
   "cell_type": "code",
   "execution_count": 38,
   "id": "6a5e10ed-eac6-4eb0-aa3b-3c84687048da",
   "metadata": {},
   "outputs": [],
   "source": [
    "df.write.parquet(\"s3a://sicredi/associado\")"
   ]
  },
  {
   "cell_type": "code",
   "execution_count": null,
   "id": "c6c89c83-1206-452e-9f33-8a88b7c646c7",
   "metadata": {},
   "outputs": [],
   "source": []
  }
 ],
 "metadata": {
  "kernelspec": {
   "display_name": "Python 3 (ipykernel)",
   "language": "python",
   "name": "python3"
  },
  "language_info": {
   "codemirror_mode": {
    "name": "ipython",
    "version": 3
   },
   "file_extension": ".py",
   "mimetype": "text/x-python",
   "name": "python",
   "nbconvert_exporter": "python",
   "pygments_lexer": "ipython3",
   "version": "3.10.8"
  },
  "toc-showcode": true
 },
 "nbformat": 4,
 "nbformat_minor": 5
}
